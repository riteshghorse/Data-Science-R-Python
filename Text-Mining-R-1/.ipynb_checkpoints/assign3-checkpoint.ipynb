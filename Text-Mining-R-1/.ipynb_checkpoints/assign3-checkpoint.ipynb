{
 "cells": [
  {
   "cell_type": "code",
   "execution_count": 8,
   "metadata": {},
   "outputs": [],
   "source": [
    "import pandas as pd\n",
    "import numpy as np\n",
    "from sklearn.feature_extraction.text import CountVectorizer"
   ]
  },
  {
   "cell_type": "code",
   "execution_count": 9,
   "metadata": {},
   "outputs": [
    {
     "name": "stdout",
     "output_type": "stream",
     "text": [
      "The seminar is about Stock Market Prediction, that is, how the different previous stock market data and web-media sentiments affect the stock value indexes and how they can be used to predict the future stock value indexes. So, this seminar focuses on 3 models- multiple linear regression, support vector machine and fuzzy neural network with different combinations of inputs.\n",
      "This seminar will brief the above mentioned models and how they work.\n",
      "The accuracy of this models is calculated and compared and the most accurate results will be the nearest value of stock value indexes.\n",
      "\n"
     ]
    }
   ],
   "source": [
    "f = open('abstract.txt', 'r')\n",
    "text = f.read()\n",
    "print(text)"
   ]
  },
  {
   "cell_type": "code",
   "execution_count": 10,
   "metadata": {},
   "outputs": [
    {
     "data": {
      "text/plain": [
       "'the seminar is about stock market prediction, that is, how the different previous stock market data and web-media sentiments affect the stock value indexes and how they can be used to predict the future stock value indexes. so, this seminar focuses on 3 models- multiple linear regression, support vector machine and fuzzy neural network with different combinations of inputs.\\nthis seminar will brief the above mentioned models and how they work.\\nthe accuracy of this models is calculated and compared and the most accurate results will be the nearest value of stock value indexes.\\n'"
      ]
     },
     "execution_count": 10,
     "metadata": {},
     "output_type": "execute_result"
    }
   ],
   "source": [
    "text.lower()"
   ]
  },
  {
   "cell_type": "code",
   "execution_count": 13,
   "metadata": {},
   "outputs": [],
   "source": [
    "cv = CountVectorizer(min_df=0, stop_words=\"english\", max_features=200)\n",
    "counts = cv.fit_transform([text]).toarray().ravel()                                                  \n",
    "words = np.array(cv.get_feature_names()) \n",
    "# normalize                                                                                                                                             \n",
    "counts = counts / float(counts.max())"
   ]
  },
  {
   "cell_type": "code",
   "execution_count": null,
   "metadata": {
    "collapsed": true
   },
   "outputs": [],
   "source": []
  }
 ],
 "metadata": {
  "kernelspec": {
   "display_name": "Python 3",
   "language": "python",
   "name": "python3"
  },
  "language_info": {
   "codemirror_mode": {
    "name": "ipython",
    "version": 3
   },
   "file_extension": ".py",
   "mimetype": "text/x-python",
   "name": "python",
   "nbconvert_exporter": "python",
   "pygments_lexer": "ipython3",
   "version": "3.6.3"
  }
 },
 "nbformat": 4,
 "nbformat_minor": 2
}
